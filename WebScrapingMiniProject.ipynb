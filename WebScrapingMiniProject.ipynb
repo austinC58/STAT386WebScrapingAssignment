{
 "cells": [
  {
   "cell_type": "code",
   "execution_count": 1,
   "id": "aab7f0a0",
   "metadata": {},
   "outputs": [],
   "source": [
    "from bs4 import BeautifulSoup \n",
    "import requests\n",
    "import re\n",
    "import pandas as pd"
   ]
  },
  {
   "cell_type": "code",
   "execution_count": 8,
   "id": "3358cb28",
   "metadata": {},
   "outputs": [],
   "source": [
    "#Use url, request and beautiful soup to scrape webpage\n",
    "url = 'https://statmando.com/stats/majors-stats-mpo'\n",
    "r = requests.get(url)\n",
    "soup = BeautifulSoup(r.text)\n"
   ]
  },
  {
   "cell_type": "code",
   "execution_count": 136,
   "id": "3f7a6691",
   "metadata": {},
   "outputs": [],
   "source": [
    "#Pull the table body and extract the text\n",
    "body = [x.get_text().strip() for x in soup.find('tbody')]\n",
    "\n",
    "#Remove excess spaces between list elements\n",
    "for i in range(0,218):\n",
    "    body.remove('')"
   ]
  },
  {
   "cell_type": "code",
   "execution_count": 137,
   "id": "a0e32651",
   "metadata": {},
   "outputs": [],
   "source": [
    "#initialize a data frame with the first entry\n",
    "\n",
    "df = pd.DataFrame({\n",
    "    'Name': ['Ken Climo'],\n",
    "    'Starts': [55],\n",
    "    'Wins': [18],\n",
    "    'Podiums': [26],\n",
    "    'Top 10s': [45],\n",
    "    'Top 20s': [51],\n",
    "    'Avg Place': [5.31],\n",
    "    'DNFs': [3],\n",
    "    'Win%': [34.62],\n",
    "    'Podium%': [50.00],\n",
    "    'Top 10%': [86.54],\n",
    "    'Top 20%': [98.08],\n",
    "    'Total $': ['138,224'],\n",
    "    'Avg $': ['2,658'],\n",
    "    '$ as Winner': ['84,995'],\n",
    "    'Strokes': ['16,242']\n",
    "})"
   ]
  },
  {
   "cell_type": "code",
   "execution_count": 141,
   "id": "fa26a3e5",
   "metadata": {},
   "outputs": [],
   "source": [
    "#Use the split function to seperate the list elements into their desired columns\n",
    "#unfortunatley this splits names up into 1,2,3 or 4 elements. Need to combine names and make sure their is only one name per row\n",
    "#If statements combine name elements and replaces the old ones with a singular name element\n",
    "\n",
    "for i in range(1,218):\n",
    "    PlayerName=\"\"\n",
    "    RowData = body[i].split()\n",
    "    if len(RowData) == 17:\n",
    "        PlayerName = RowData[0]+' '+RowData[1]\n",
    "        del RowData[0:2]\n",
    "        RowData.insert(0,PlayerName)\n",
    "    if len(RowData) == 18:\n",
    "        PlayerName = RowData[0]+' '+RowData[1]+' '+RowData[3]\n",
    "        del RowData[0:3]\n",
    "        RowData.insert(0,PlayerName)\n",
    "    if len(RowData) == 19:\n",
    "        PlayerName = RowData[0]+' '+RowData[1]+' '+RowData[3]+' '+RowData[4]\n",
    "        del RowData[0:4]\n",
    "        RowData.insert(0,PlayerName)\n",
    "        \n",
    "    df.loc[len(df.index)] = RowData"
   ]
  },
  {
   "cell_type": "code",
   "execution_count": 132,
   "id": "7fd7fb0c",
   "metadata": {
    "scrolled": true
   },
   "outputs": [],
   "source": [
    "#Export to csv\n",
    "df.to_csv('WebScrapingMiniProject.csv', index=False)"
   ]
  }
 ],
 "metadata": {
  "kernelspec": {
   "display_name": "Python 3 (ipykernel)",
   "language": "python",
   "name": "python3"
  },
  "language_info": {
   "codemirror_mode": {
    "name": "ipython",
    "version": 3
   },
   "file_extension": ".py",
   "mimetype": "text/x-python",
   "name": "python",
   "nbconvert_exporter": "python",
   "pygments_lexer": "ipython3",
   "version": "3.9.12"
  }
 },
 "nbformat": 4,
 "nbformat_minor": 5
}
